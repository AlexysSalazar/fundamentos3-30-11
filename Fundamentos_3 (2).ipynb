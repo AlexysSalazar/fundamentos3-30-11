{
  "nbformat": 4,
  "nbformat_minor": 0,
  "metadata": {
    "colab": {
      "name": "Fundamentos 3.ipynb",
      "provenance": [],
      "collapsed_sections": []
    },
    "kernelspec": {
      "name": "python3",
      "display_name": "Python 3"
    },
    "language_info": {
      "name": "python"
    }
  },
  "cells": [
    {
      "cell_type": "markdown",
      "metadata": {
        "id": "sISU9hBVFx3l"
      },
      "source": [
        "Repetición:\n",
        "\n",
        "Este tipo de estructura nos permite automatizar la ejecución repetitiva de código mientas ciertas condiciones s cumplan, tenemos 3 variantes de esta estructura en todos los lenguajes de programación:\n",
        "\n",
        "Desde...hasta (estructura for)\n",
        "haz mientras (structura While)\n",
        "haz y luego validaz mientras( estructura Do-While)\n",
        "\n",
        "En todos los lenguajes de programacion existe un tipo especial de for, conocido como **For-each**"
      ]
    },
    {
      "cell_type": "code",
      "metadata": {
        "id": "_FK8-MH7FY_f"
      },
      "source": [
        "#funcion range ()\n",
        "# range (<INICIO>, <STOP>, <INCREMENTO>)\n",
        "x= range(0,10,2)\n",
        "print(x)\n",
        "\n",
        "\n",
        "for j in range(10): #range (0,10) --> 0,1,2,3,4,5,6,7,8,9\n",
        "    print(f\"Hola {j}\")\n",
        "\n",
        "print(\"-.-.-.-.-.-.-.\") \n",
        "for j in range(0,10,2): #range (0,10,2) --> 0,2,4,6,8\n",
        "    print(f\"Hola {j}\")\n",
        "\n",
        "print(\"-.-.-.-.-.-.-.-\")\n",
        "frutas = [\"Uva\",\"Aguacate\",\"Pera\",\"Manzana\",\"Sandia\"]\n",
        "\n",
        "print(frutas[0])\n",
        "print(frutas[1])\n",
        "print(frutas[2])\n",
        "print(frutas[3])\n",
        "print(frutas[4])\n",
        "\n",
        "print(\"-----Frutas----\")\n",
        "for index in range (5):\n",
        "    print(frutas[index])"
      ],
      "execution_count": null,
      "outputs": []
    },
    {
      "cell_type": "code",
      "metadata": {
        "id": "-FP806O8LScV"
      },
      "source": [
        "for i in range(5):\n",
        "    print(\"+++++\")"
      ],
      "execution_count": null,
      "outputs": []
    },
    {
      "cell_type": "markdown",
      "metadata": {
        "id": "-jCgTXp-MVK5"
      },
      "source": [
        "#25/11/2021"
      ]
    },
    {
      "cell_type": "code",
      "metadata": {
        "id": "ynSP1WhZMVrG"
      },
      "source": [
        "for x in range(1.20.1):\n",
        "    print(x)\n",
        "print(\"Fin del programa\")\n",
        "\n",
        "for x"
      ],
      "execution_count": null,
      "outputs": []
    },
    {
      "cell_type": "code",
      "metadata": {
        "id": "Mifb5SaUNqXX"
      },
      "source": [
        "#ejemplo 3.3\n",
        "CUESER = 0\n",
        "\n",
        "NUM=0\n",
        "N= int(input(\"Introduce un valor numerico mayor que 1: \"))\n",
        "for I in range(1,N+1,1):\n",
        "    N= int(input(\"Introduce un valor numerico: \"))\n",
        "    if N== 0:\n",
        "        CUESER += 1\n",
        "\n",
        "print(\"CUESER= \", CUESER) \n"
      ],
      "execution_count": null,
      "outputs": []
    },
    {
      "cell_type": "markdown",
      "metadata": {
        "id": "HaIZlnICQxkN"
      },
      "source": [
        "7 X 1 = 7\n",
        "7 X 2 = 14\n",
        "\n",
        "...\n",
        "\n",
        "7 X 10 = 70"
      ]
    },
    {
      "cell_type": "code",
      "metadata": {
        "id": "TxrF-AnrQp8X"
      },
      "source": [
        "for i in range(1, 11):\n",
        " print(f\"7 * {i} = \", 7*i)\n"
      ],
      "execution_count": null,
      "outputs": []
    },
    {
      "cell_type": "markdown",
      "metadata": {
        "id": "l1C1IcBJR50J"
      },
      "source": [
        "Came un numero entre 1 y 5 : 2\n",
        "\n",
        "Dame un numero entre 2 y 10 : 6\n",
        "\n",
        "\n"
      ]
    },
    {
      "cell_type": "code",
      "metadata": {
        "id": "FeajvXsmSIIT"
      },
      "source": [
        "N= int(input(\"Dame un numero entre 1 y 5\"))\n",
        "N2= int(input(f\"Dame un numero entre {N} y 10\"))\n",
        "\n",
        "for i in range(1, 11):\n",
        " print(f\"N * {i} = \", N*i)\n"
      ],
      "execution_count": null,
      "outputs": []
    },
    {
      "cell_type": "code",
      "metadata": {
        "id": "UyjN1g1oWFFa"
      },
      "source": [
        "#generador de lista\n",
        "numeros = [0,0,0,0,0]\n",
        "print(numeros)\n",
        "numeros = [0 for x in range(5)]\n",
        "print(numeros)\n",
        "#empleando la variable de control x para el valor inicial\n",
        "numeros = [x for x in range(5)]\n",
        "print(numeros)\n",
        "print(\".-.-.-.-\")\n",
        "numeros = [ x for x in range(10,101,10) ]\n",
        "print(numeros)"
      ],
      "execution_count": null,
      "outputs": []
    },
    {
      "cell_type": "code",
      "metadata": {
        "id": "7hn9_I3hYZVf"
      },
      "source": [
        "#ejercicio: calcular promedio de edades\n",
        "SUM = 0\n",
        "edades = [0 for x in range(5)]\n",
        "for x in range(5):\n",
        "    edades[x]= int(input(\"Introduce una edad: \"))\n",
        "    SUM = SUM + edades[x]\n",
        "    PROM = SUM/5\n",
        "print(edades)\n",
        "print(\"El promedio de edades es: \", PROM)"
      ],
      "execution_count": null,
      "outputs": []
    },
    {
      "cell_type": "code",
      "metadata": {
        "id": "_V-itGe4cUJF"
      },
      "source": [
        "import random\n",
        "print(random.random())\n",
        "print(random.uniform(5,11))\n",
        "val = round(random .uniform(5,11), 2)\n",
        "print(val)\n",
        "\n",
        "valores = [round(random.uniform(5,11),2) for x in range(20)]\n",
        "print(valores)"
      ],
      "execution_count": null,
      "outputs": []
    },
    {
      "cell_type": "markdown",
      "metadata": {
        "id": "QzLrObcP_i3E"
      },
      "source": [
        "#30/11/2021"
      ]
    },
    {
      "cell_type": "markdown",
      "metadata": {
        "id": "PceK-NHV-WXL"
      },
      "source": [
        "#Estructura de control de Do-While.\n",
        "una estructura de contro do-while, nos permite ejecutar repetidamente mientras ena condicion se siga cumpliendo\n",
        "\n",
        "##Sintaxis\n",
        "\n",
        "```\n",
        "while <condicion>\n",
        "    <bloque de entencia a ejecutar repetidamente>\n",
        "<siguiente sentencia posterios a while>\n",
        "```\n",
        "La diferencia principal en comparacion con la estructura for es que con 'while' no conoces el numero de ciclos a ejecutar en 'for' si se conoce\n"
      ]
    },
    {
      "cell_type": "code",
      "metadata": {
        "id": "RFh34oQ597b3"
      },
      "source": [
        "valor= int(input(\"dame un valor entero: \"))\n",
        "\n",
        "while valor !=0:\n",
        "    print(valor)\n",
        "    valor= int(input(\"Dame un vlor entero\"))\n",
        "print (\"fin del programa\")"
      ],
      "execution_count": null,
      "outputs": []
    },
    {
      "cell_type": "code",
      "metadata": {
        "id": "MQmHdAYyBg6B"
      },
      "source": [
        "comprobar= True\n",
        "while comprobar ==True:\n",
        "    \n",
        "    n=int(input(\"Ingrese un numero entero ppositivo: \"))\n",
        "\n",
        "    if n > 0:\n",
        "        for i in range(1,11):\n",
        "            print(n, \"por\", i, \"es igual a: \", n*(i))\n",
        "        comprobar = False\n",
        "    else:\n",
        "        print(\"El numero ingresado no es correcto\")\n"
      ],
      "execution_count": null,
      "outputs": []
    },
    {
      "cell_type": "code",
      "metadata": {
        "colab": {
          "base_uri": "https://localhost:8080/"
        },
        "id": "S9bFL-JCKn7B",
        "outputId": "4bfd53a4-2981-4537-8749-ec093f5847a6"
      },
      "source": [
        "comprobar= True\n",
        "while comprobar == True:\n",
        "\n",
        "    n=int(input(\"Ingrese un numero entero positivo: \"))\n",
        "    if n>0:\n",
        "        comprobar = False\n",
        "        resultado =0\n",
        "        for i in range(1,n+1):\n",
        "            resultado +=(1/i)\n",
        "            print(\"El resultado de la serie es: \", resultado)\n",
        "    else:\n",
        "        print(\"el numero ingresado no es correcto, Intente de nuevo\")"
      ],
      "execution_count": 20,
      "outputs": [
        {
          "output_type": "stream",
          "name": "stdout",
          "text": [
            "Ingrese un numero entero positivo: -8\n",
            "el numero ingresado no es correcto, Intente de nuevo\n",
            "Ingrese un numero entero positivo: 5\n",
            "El resultado de la serie es:  1.0\n",
            "El resultado de la serie es:  1.5\n",
            "El resultado de la serie es:  1.8333333333333333\n",
            "El resultado de la serie es:  2.083333333333333\n",
            "El resultado de la serie es:  2.283333333333333\n"
          ]
        }
      ]
    }
  ]
}